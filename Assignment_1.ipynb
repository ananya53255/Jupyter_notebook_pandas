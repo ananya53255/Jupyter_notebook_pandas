{
 "cells": [
  {
   "cell_type": "markdown",
   "metadata": {},
   "source": [
    "## Assignment 1 - Beer and Mosquitos\n",
    "\n",
    "This assignment is based on the video discussed in module 1.\n",
    "\n",
    "John Rauser ( 2014). Statistics Without the Agonizing Pain. Strata Hadoop 2014. Retrieved from https://www.youtube.com/watch?v=5Dnw46eC-0o\n",
    "\n",
    "(Source: https://www.youtube.com/watch?v=5Dnw46eC-0o )\n",
    "\n",
    "## Learning outcomes\n",
    "- Use code to work with data\n",
    "- Calculate basic statistical measures \n",
    "- Implement a data simulation by using resampling \n",
    "\n",
    "This assignment will analyze data from a study by Lefèvre T, Gouagna L-C, Dabiré KR, Elguero E, Fontenille D, Renaud F, et al. (2010) Beer Consumption Increases Human Attractiveness to Malaria Mosquitoes. PLoS ONE 5(3): e9546. https://doi.org/10.1371/journal.pone.0009546.  The purpose of the study was to \"ascertain the effect of beer consumption on human attractiveness to malaria mosquitoes in semi field conditions in Burkina Faso.\"  The null hypothesis may be stated as:\n",
    "\n",
    "<center><i>\"There is no relationship between human attractiveness to malaria mosquitoes whether they are 'treated' with beer or water.\"</i></center>\n",
    "\n",
    "We will endeavor to disprove this null hypothesis.\n",
    "\n",
    "\n",
    "\n",
    "__Question 1__\n",
    "\n",
    "1.  Using the dataset from the video (mosquitos_data.csv in the course folder), write Python code:  \n",
    "\n",
    " - Create side-by-side boxplots for the number of mosquitos in each group (_beer vs water_)\n",
    " -  What does the graph reveal about the data for both groups? Is there an association between beer consumption and attractivness to mosquitos?\n",
    " - Calculate basic statistics measures for each group: the mean, median, standard deviation and explain the numbers.\n",
    " \n",
    "2. Write code to implement the data simulation demonstrated in the above mentioned video. Calculate the probability of obtaining the experiment outcome assuming no association between beer consumption."
   ]
  },
  {
   "cell_type": "markdown",
   "metadata": {},
   "source": [
    "## Hints\n",
    "\n",
    "- Use pandas, matplotlib, or seaborn to plot boxplots in Python.\n",
    "- Label the graphs wherever applicable e.g. title, legend, units etc. "
   ]
  },
  {
   "cell_type": "markdown",
   "metadata": {},
   "source": [
    "This assignment demonstrates one of the main ideas of statistical inference. To find if the experimentally observed difference (approx. 4.4) between the two subsets is statistically significant, we need to calculate the probability of obtaining the experiment’s outcome by chance, or by assuming that there is no association between the results from beer or water consumption.  \n",
    "Under this assumption, we can randomly shuffle the data so that after enough iterations we may obtain the distribution of the mean differences. This distribution shows the odds of obtaining the difference by chance. From this histogram, the area under calculated distribution to the left from 4.4 is the probability of obtaining a mean difference less than 4.4 under skeptical approach (no association assumption). Meanwhile, the area under the graph’s right tail corresponds to the probability of finding a difference of 4.4 or higher under the same assumption.   \n",
    "If the latter probability is too small, one can conclude that it is very unlikely to get such an observation by chance and the skeptical ‘no association’ hypothesis can be rejected. Usually, this probability is compared to the preset significance level.   "
   ]
  },
  {
   "cell_type": "code",
   "execution_count": 1,
   "metadata": {},
   "outputs": [],
   "source": [
    "import pandas as pd\n",
    "from pandas import Series, DataFrame\n",
    "pd.set_option('display.max_rows', 50)\n",
    "import numpy as np\n",
    "from random import randint\n",
    "import matplotlib.pyplot as plt\n",
    "import seaborn as sns\n",
    "sns.set(style=\"darkgrid\")\n",
    "\n",
    "np.random.seed(123)\n",
    "\n",
    "%matplotlib inline"
   ]
  },
  {
   "cell_type": "code",
   "execution_count": 2,
   "metadata": {},
   "outputs": [
    {
     "data": {
      "image/png": "[encoded data removed]",
      "text/plain": [
       "<Figure size 576x432 with 1 Axes>"
      ]
     },
     "metadata": {
      "needs_background": "light"
     },
     "output_type": "display_data"
    }
   ],
   "source": [
    "#Load to Pandas DF, and create boxplot.\n",
    "\n",
    "df = pd.read_csv('mosquitos_data.csv')\n",
    "\n",
    "df.boxplot(by='Treatment', figsize=(8,6))\n",
    "plt.title(' - Number of Mosquitos Attracted by Beer or Water');"
   ]
  },
  {
   "cell_type": "code",
   "execution_count": 3,
   "metadata": {},
   "outputs": [
    {
     "data": {
      "text/plain": [
       "Text(0.5, 1.0, 'Boxplot of Mosquitoes Attracted')"
      ]
     },
     "execution_count": 3,
     "metadata": {},
     "output_type": "execute_result"
    },
    {
     "data": {
      "image/png": "[encoded data removed]",
      "text/plain": [
       "<Figure size 432x288 with 1 Axes>"
      ]
     },
     "metadata": {},
     "output_type": "display_data"
    }
   ],
   "source": [
    "#Seaborn boxplot\n",
    "\n",
    "sns.set_style(\"whitegrid\")\n",
    "sns.boxplot(y=df[\"Response\"], x=df[\"Treatment\"])\n",
    "plt.title('Boxplot of Mosquitoes Attracted')"
   ]
  },
  {
   "cell_type": "markdown",
   "metadata": {},
   "source": [
    "#### Is there an association between beer consumption and attractivness to mosquitos?\n",
    "\n",
    "__Answer:__ It looks like there is an association between beer consumption and attractiveness, as median and other values in the beer group are higher corresponding value in the water group. However, there is a high overlap and inference analysis is required. In this module, we will run a simulation."
   ]
  },
  {
   "cell_type": "markdown",
   "metadata": {},
   "source": [
    "#### Calculate basic statistics measures for each group:\n",
    "the mean, median, standard deviation."
   ]
  },
  {
   "cell_type": "code",
   "execution_count": 4,
   "metadata": {},
   "outputs": [
    {
     "name": "stdout",
     "output_type": "stream",
     "text": [
      "The mean of each group:\n",
      "             Response\n",
      "Treatment           \n",
      "Beer       23.600000\n",
      "Water      19.222222\n",
      "\n",
      "\n",
      "The median of each group:\n",
      "            Response\n",
      "Treatment          \n",
      "Beer           24.0\n",
      "Water          20.0\n",
      "\n",
      "\n",
      "The standard deviation of each group:\n",
      "            Response\n",
      "Treatment          \n",
      "Beer       4.133199\n",
      "Water      3.671120\n"
     ]
    }
   ],
   "source": [
    "dfg = df.groupby('Treatment')\n",
    "\n",
    "print('The mean of each group:\\n', dfg.mean())\n",
    "print('\\n\\nThe median of each group:\\n', dfg.median())\n",
    "print('\\n\\nThe standard deviation of each group:\\n', dfg.std())\n",
    "real_difference = dfg.mean().iloc[0] - dfg.mean().iloc[1]"
   ]
  },
  {
   "cell_type": "code",
   "execution_count": 5,
   "metadata": {},
   "outputs": [
    {
     "data": {
      "text/html": [
       "<div>\n",
       "<style scoped>\n",
       "    .dataframe tbody tr th:only-of-type {\n",
       "        vertical-align: middle;\n",
       "    }\n",
       "\n",
       "    .dataframe tbody tr th {\n",
       "        vertical-align: top;\n",
       "    }\n",
       "\n",
       "    .dataframe thead tr th {\n",
       "        text-align: left;\n",
       "    }\n",
       "\n",
       "    .dataframe thead tr:last-of-type th {\n",
       "        text-align: right;\n",
       "    }\n",
       "</style>\n",
       "<table border=\"1\" class=\"dataframe\">\n",
       "  <thead>\n",
       "    <tr>\n",
       "      <th></th>\n",
       "      <th colspan=\"8\" halign=\"left\">Response</th>\n",
       "    </tr>\n",
       "    <tr>\n",
       "      <th></th>\n",
       "      <th>count</th>\n",
       "      <th>mean</th>\n",
       "      <th>std</th>\n",
       "      <th>min</th>\n",
       "      <th>25%</th>\n",
       "      <th>50%</th>\n",
       "      <th>75%</th>\n",
       "      <th>max</th>\n",
       "    </tr>\n",
       "    <tr>\n",
       "      <th>Treatment</th>\n",
       "      <th></th>\n",
       "      <th></th>\n",
       "      <th></th>\n",
       "      <th></th>\n",
       "      <th></th>\n",
       "      <th></th>\n",
       "      <th></th>\n",
       "      <th></th>\n",
       "    </tr>\n",
       "  </thead>\n",
       "  <tbody>\n",
       "    <tr>\n",
       "      <th>Beer</th>\n",
       "      <td>25.0</td>\n",
       "      <td>23.600000</td>\n",
       "      <td>4.133199</td>\n",
       "      <td>17.0</td>\n",
       "      <td>20.0</td>\n",
       "      <td>24.0</td>\n",
       "      <td>27.0</td>\n",
       "      <td>31.0</td>\n",
       "    </tr>\n",
       "    <tr>\n",
       "      <th>Water</th>\n",
       "      <td>18.0</td>\n",
       "      <td>19.222222</td>\n",
       "      <td>3.671120</td>\n",
       "      <td>12.0</td>\n",
       "      <td>16.5</td>\n",
       "      <td>20.0</td>\n",
       "      <td>22.0</td>\n",
       "      <td>24.0</td>\n",
       "    </tr>\n",
       "  </tbody>\n",
       "</table>\n",
       "</div>"
      ],
      "text/plain": [
       "          Response                                                   \n",
       "             count       mean       std   min   25%   50%   75%   max\n",
       "Treatment                                                            \n",
       "Beer          25.0  23.600000  4.133199  17.0  20.0  24.0  27.0  31.0\n",
       "Water         18.0  19.222222  3.671120  12.0  16.5  20.0  22.0  24.0"
      ]
     },
     "execution_count": 5,
     "metadata": {},
     "output_type": "execute_result"
    }
   ],
   "source": [
    "df.groupby('Treatment').describe()"
   ]
  },
  {
   "cell_type": "markdown",
   "metadata": {},
   "source": [
    "#### Explain the numbers.\n",
    "__A:__ The mean shows average number of mosquitos attracted by each member of the group.  In this case, everyone who drank beer attracted 23.6 mosquitos on average, while everyone who drank water attracted 19.2 on average.\n",
    "\n",
    "Median shows 50% quantile, which means that after sorting the number of mosquitos attracted by each member in the group, how many mosquitos were attracted by the person in the middle (if odd number of people in the group) or the average of the mosquitos attracted by the two people in the middle (even number of group members).  In this case, the person in middle attracted 24 mosquitos in beer group (25 members), and the two persons in the middle of water group attracted 20 mosquitos each, on average.\n",
    "\n",
    "Standard deviation shows the variability, describing how far away the typical observation is from the mean. In this case, each member in beer group typically attracted 4.1 mosquitos more or less than 23.6 (mean); while each water group member typically attracted 3.7 mosquitos more or less than 19.2."
   ]
  },
  {
   "cell_type": "markdown",
   "metadata": {},
   "source": [
    "#### 2) Write the code to implement the data simulation demonstrated in the video (this maybe a bit challenging for some, hints will be given in class)"
   ]
  },
  {
   "cell_type": "markdown",
   "metadata": {},
   "source": [
    "a. 'Manual' data swap:"
   ]
  },
  {
   "cell_type": "code",
   "execution_count": 6,
   "metadata": {},
   "outputs": [],
   "source": [
    "def swap(data, sample_size = 9):\n",
    "    set1 = data[data['Treatment'] == 'Beer'] #get beer subject group\n",
    "    set2 = data[data['Treatment'] == 'Water'] #get water subject group\n",
    "    #sample_size = 9 #randint(1,18) #get sample size to swap <= 18 water subjects\n",
    "    set1_elements = set1.sample(n=sample_size) #get swap subset from beer group\n",
    "    set1_rest = set1.loc[~set1.index.isin(set1_elements.index)]  #get remainder from beer group\n",
    "    set2_elements = set2.sample(n=sample_size) #get swap subset from water group\n",
    "    set2_rest = set2.loc[~set2.index.isin(set2_elements.index)] #get remainder from water group\n",
    "    set1_elements['Treatment'] = 'Water' #change beer swap subset label to 'water'\n",
    "    set2_elements['Treatment'] = 'Beer' #change water swap subset label to 'beer'\n",
    "    set1 = pd.concat([set2_elements,set1_rest]) #concat changed water subset to beer remainder\n",
    "    set2 = pd.concat([set1_elements,set2_rest]) #concat changed beer subset to water remainder\n",
    "    set1_mean = set1['Response'].mean() #get post-swap beer group mean\n",
    "    set2_mean = set2['Response'].mean() #get post-swap water group mean\n",
    "    diff = set1_mean - set2_mean #get mean difference\n",
    "    return diff"
   ]
  },
  {
   "cell_type": "code",
   "execution_count": 7,
   "metadata": {},
   "outputs": [],
   "source": [
    "iterations=10000\n",
    "\n",
    "#Swap fixed number of points, second argument sets number of observations to swap: \n",
    "\n",
    "df3 = pd.DataFrame([[i,swap(df, 8)] for i in range(iterations)], columns=['x','y']) \n",
    "\n",
    "#Or random number of points, randint(1,18) is passed as second argument:\n",
    "\n",
    "#df3 = pd.DataFrame([[i,swap(df, randint(1, 18))] for i in range(iterations)], columns=['x','y']) "
   ]
  },
  {
   "cell_type": "code",
   "execution_count": 8,
   "metadata": {},
   "outputs": [
    {
     "data": {
      "text/plain": [
       "Text(0, 0.5, 'Probability')"
      ]
     },
     "execution_count": 8,
     "metadata": {},
     "output_type": "execute_result"
    },
    {
     "data": {
      "image/png": "[encoded data removed]",
      "text/plain": [
       "<Figure size 432x288 with 1 Axes>"
      ]
     },
     "metadata": {},
     "output_type": "display_data"
    }
   ],
   "source": [
    "# Set style of scatterplot\n",
    "#sns.set_context(\"notebook\", font_scale=1.1)\n",
    "#sns.set_style(\"ticks\")\n",
    "\n",
    "# Create scatterplot of dataframe\n",
    "#plot = sns.kdeplot(df3.y)\n",
    "plt.hist(df3.y,bins=100)\n",
    "# Set title\n",
    "plt.title('Distribution of Mean Difference of Mosquitoes Attracted')\n",
    "\n",
    "# Set x-axis label\n",
    "plt.xlabel('Mean Difference')\n",
    "\n",
    "# Set y-axis label\n",
    "plt.ylabel('Probability')"
   ]
  },
  {
   "cell_type": "markdown",
   "metadata": {},
   "source": [
    "__Note:__ In this case, when 8 observations were swapped in each iteration, the distribution is not centered at 0.0, the center is somewhat shifted to the right. This is because one of the arrays has a larger mean.\n",
    "* If less than 9 observations are swapped, each iteration in the resulting distribution is shifted to the right,\n",
    "* if swapping more than 9 observations, too many points from water subset are moved to beer subset and the difference of means distribution will be centered at some negative value.\n",
    "\n",
    "In case a random number of observations are swapped each time, table-top distribution is expected, since the result will be an aggregate of both right- and left-shifted."
   ]
  },
  {
   "cell_type": "markdown",
   "metadata": {},
   "source": [
    "b. Using `np.random.parmutation()` method:"
   ]
  },
  {
   "cell_type": "code",
   "execution_count": 9,
   "metadata": {},
   "outputs": [],
   "source": [
    "#Calculate the delta of the mean between two groups in concern.\n",
    "\n",
    "dfm = dfg.mean()\n",
    "mdt = dfm.iloc[0]-dfm.iloc[1]"
   ]
  },
  {
   "cell_type": "code",
   "execution_count": 10,
   "metadata": {},
   "outputs": [],
   "source": [
    "# Another way to shuffle the data is to use permutation \n",
    "# to permute indices and then split the the dataframe.\n",
    "\n",
    "ls = []\n",
    "for i in range(50000): \n",
    "    arr = np.random.permutation(43)\n",
    "    delta = df.iloc[arr[:25]].Response.mean() - df.iloc[arr[-18:]].Response.mean()\n",
    "    ls.append(delta)"
   ]
  },
  {
   "cell_type": "code",
   "execution_count": 11,
   "metadata": {
    "scrolled": true
   },
   "outputs": [
    {
     "data": {
      "image/png": "[encoded data removed]",
      "text/plain": [
       "<Figure size 720x576 with 1 Axes>"
      ]
     },
     "metadata": {},
     "output_type": "display_data"
    }
   ],
   "source": [
    "#Plot the list in histogram, with a red verticle line indicate the real mean-delta produced from\n",
    "# real testing.\n",
    "\n",
    "ser = pd.Series(ls)\n",
    "ser.hist(bins=200,figsize=(10,8))\n",
    "plt.vlines(4.4,ymin=0,ymax=1200,colors='r' );"
   ]
  },
  {
   "cell_type": "markdown",
   "metadata": {},
   "source": [
    "The simulation shows that the difference of means from the experiment is on the very rare side of the normal distribution shape plotted by the random permutation. This supports the assumption about  correlation between beer consumption and mosquito attraction."
   ]
  },
  {
   "cell_type": "markdown",
   "metadata": {},
   "source": [
    "c. Below is another way to shuffle data. This time the `numpy.random.shuffle()` method is used. Dataset is first splitted and converted to list, combined list is shuffled 'number_simulations' times and after each time, shuffle combined array is split into two to calculate means and their difference. Function `ShuffleData` returns tuple of list of  differences and p-value. "
   ]
  },
  {
   "cell_type": "code",
   "execution_count": 12,
   "metadata": {},
   "outputs": [],
   "source": [
    "list_Beer = df[df['Treatment']=='Beer']['Response'].tolist()\n",
    "list_water = df[df['Treatment'] == 'Water']['Response'].tolist()"
   ]
  },
  {
   "cell_type": "code",
   "execution_count": 13,
   "metadata": {},
   "outputs": [],
   "source": [
    "import scipy.stats as stats\n",
    "\n",
    "\n",
    "def ShuffleData(list1, list2, number_simulations = 10000):\n",
    "    # n is set to length of list1 (intention to pass list_Beer in function call later)\n",
    "    # means is and array to collect iteration results:\n",
    "    n,  means = len(list1), [] \n",
    "    diff = np.mean(list1) - np.mean(list2)\n",
    "    \n",
    "    # To monitor the performance we add rolling average which shows how the average mean changes as we add more simulations\n",
    "    partial_mean = []\n",
    "    \n",
    "    k = 0\n",
    "\n",
    "    for j in range(number_simulations):\n",
    "        # conbined array is created each iteration, this way each iteration original array is shuffled\n",
    "        combined = np.concatenate([list1, list2])\n",
    "    \n",
    "        np.random.shuffle(combined)\n",
    "        mean = np.mean(combined[:n]) - np.mean(combined[n:])\n",
    "        k += diff < mean\n",
    "        \n",
    "        means += [mean]\n",
    "        \n",
    "        partial_mean.append(np.array(means).mean())\n",
    "        \n",
    "    return means, k, partial_mean"
   ]
  },
  {
   "cell_type": "code",
   "execution_count": 14,
   "metadata": {},
   "outputs": [],
   "source": [
    "means = ShuffleData(list_Beer, list_water, 50000)"
   ]
  },
  {
   "cell_type": "code",
   "execution_count": 15,
   "metadata": {},
   "outputs": [
    {
     "data": {
      "text/plain": [
       "<AxesSubplot:>"
      ]
     },
     "execution_count": 15,
     "metadata": {},
     "output_type": "execute_result"
    },
    {
     "data": {
      "image/png": "[encoded data removed]",
      "text/plain": [
       "<Figure size 576x432 with 1 Axes>"
      ]
     },
     "metadata": {},
     "output_type": "display_data"
    }
   ],
   "source": [
    "shuffled = pd.Series(means[0])\n",
    "shuffled.hist(bins=200, figsize=(8,6))\n",
    "# plt.vlines(real_difference,ymin=0,ymax=1,colors='r')"
   ]
  },
  {
   "cell_type": "code",
   "execution_count": 16,
   "metadata": {},
   "outputs": [
    {
     "data": {
      "text/plain": [
       "[<matplotlib.lines.Line2D at 0x127b4d040>]"
      ]
     },
     "execution_count": 16,
     "metadata": {},
     "output_type": "execute_result"
    },
    {
     "data": {
      "image/png": "[encoded data removed]",
      "text/plain": [
       "<Figure size 432x288 with 1 Axes>"
      ]
     },
     "metadata": {},
     "output_type": "display_data"
    }
   ],
   "source": [
    "# Running mean value of similations:\n",
    "plt.plot(range(0, 10000,1), means[2][:10000], lw=1.5)"
   ]
  },
  {
   "cell_type": "markdown",
   "metadata": {},
   "source": [
    "This plot shows that after approx. 3000 simulation the average mean does not fluctuate much. Continuing to 10,000 simulations does not damp fluctuation much. Nevertheless, we usually continue simulations in order to make sure simulations are stable."
   ]
  },
  {
   "cell_type": "code",
   "execution_count": 17,
   "metadata": {},
   "outputs": [
    {
     "name": "stdout",
     "output_type": "stream",
     "text": [
      "The probability of obtaining the expariment outcome is  0.0005\n"
     ]
    }
   ],
   "source": [
    "print('The probability of obtaining the expariment outcome is ', means[1]/50000)\n",
    "\n",
    "# Note, we used 50,000 simulations here but monitoring shows that we should have stopped at 10,000"
   ]
  },
  {
   "cell_type": "markdown",
   "metadata": {},
   "source": [
    "In iteration loop we counted number of times simulated experiment produce the mean 4.4 or larger.   \n",
    "Python function returns tuples, in particular function 'ShuffleData' will return tuple with two items\n",
    "* list of means from simulations\n",
    "* count of outcome with mean > 4.4\n",
    "\n",
    "Probability of observing the experiment outcome is (number of outcomes with mean > 4.4) / (number of iterations)."
   ]
  }
 ],
 "metadata": {
  "kernelspec": {
   "display_name": "Python 3 (ipykernel)",
   "language": "python",
   "name": "python3"
  },
  "language_info": {
   "codemirror_mode": {
    "name": "ipython",
    "version": 3
   },
   "file_extension": ".py",
   "mimetype": "text/x-python",
   "name": "python",
   "nbconvert_exporter": "python",
   "pygments_lexer": "ipython3",
   "version": "3.9.7"
  }
 },
 "nbformat": 4,
 "nbformat_minor": 4
}
