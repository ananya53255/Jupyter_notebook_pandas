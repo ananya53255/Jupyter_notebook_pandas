{
 "cells": [
  {
   "cell_type": "markdown",
   "metadata": {},
   "source": [
    "## Assignment 2 Sample Solution"
   ]
  },
  {
   "cell_type": "markdown",
   "metadata": {},
   "source": [
    "This assignmemt is based on content discussed in module 2 and will work on a solution for the famous Monty Hall game.  Retrieved from https://en.wikipedia.org/wiki/Monty_Hall_problem\n"
   ]
  },
  {
   "cell_type": "markdown",
   "metadata": {},
   "source": [
    "## Learning outcomes\n",
    "\n",
    "- Program a simple simulation to solve a concrete statistical problem\n",
    "- Develop insight into the Bayesian probabilistic viewpoint\n",
    "- Recognize that statistical intuition can sometimes be wrong"
   ]
  },
  {
   "cell_type": "markdown",
   "metadata": {},
   "source": [
    "**Question 1**\n",
    "Given below is the description of the problem.  \n",
    "\n",
    "Suppose you're on a game show and you're given the choice of three doors. \n",
    "\n",
    "Behind one door is a car; behind the others, goats. The car and the goats were placed randomly behind the doors before the show.\n",
    "\n",
    "The rules are:\n",
    "\n",
    "After you have chosen a door, the door remains closed for the time being. \n",
    "The game show host, Monty Hall, who knows what is behind the doors, now has to open one of the two remaining doors, and the door he opens must have a goat behind it. If both remaining doors have goats behind them, he chooses one randomly. \n",
    "\n",
    "After Monty opens a door with a goat, he will ask you to decide whether you want to stay with your first choice or to switch to the last remaining door. \n",
    "Imagine that you chose Door 1 and the host opens Door 3, which has a goat. \n",
    "He then asks you \"Do you want to switch to Door Number 2?\" Is it to your advantage to change your choice? \n",
    "\n",
    "**NOTES:**\n",
    "1. The player may initially choose any of the three doors (not just Door 1).\n",
    "2. The host opens a different door revealing a goat (not necessarily Door 3).\n",
    "3. The host gives the player a second choice between the two remaining unopened doors. \n"
   ]
  },
  {
   "cell_type": "markdown",
   "metadata": {},
   "source": [
    "## Monty Hall problem\n",
    "\n",
    "- Write Python code to solve the Monty Hall problem. Simulate at least a thousand games using three doors for each strategy and show the results in such a way as to make it easy to compare the effects of each strategy.\n"
   ]
  },
  {
   "cell_type": "code",
   "execution_count": 1,
   "metadata": {},
   "outputs": [],
   "source": [
    "import numpy as np\n",
    "\n",
    "a = np.array([0, 1, 2])\n",
    "N_games = 1000\n",
    "\n",
    "# To see if it is to our advantage, we want to calculate \n",
    "# the probability of winning the car \n",
    "# if the contestant chooses to switch doors vs. if they do not\n",
    "\n",
    "# This function is to simulate N games (say 1,000 or 10,000) to find odds winning the car\n",
    "def games(N):\n",
    "    N_wins_first_choice = 0\n",
    "    N_wins_second_choice = 0\n",
    "    \n",
    "    for i in range(1, N+1):\n",
    "        \n",
    "        # Randomly the door with the car behind it\n",
    "        prize = np.random.choice(a)\n",
    "        \n",
    "        # Randomly choose the door for the contestant, and remove it from \n",
    "        # the list of doors to open\n",
    "        player = np.random.choice(a)\n",
    "        if prize == player:\n",
    "            \n",
    "            # If contestant's first guess was correct, \n",
    "            # she would win if stays with the first choice\n",
    "            N_wins_first_choice +=1\n",
    "            # Monty picks randomly any other door, \n",
    "            # in this case other two doors without prize\n",
    "            host = np.random.choice(np.delete(a, prize))\n",
    "        else:\n",
    "            \n",
    "            \n",
    "            # otherwise Monty will open the other  door (without price)\n",
    "            host = np.delete(a, [prize, player])[0]\n",
    "        # Contestant may choose to change door, and pick unopened door.\n",
    "        second_choice = np.delete(a, [player, host])[0]\n",
    "        \n",
    "        # evaluate if the \"other door\" is the winner\n",
    "        if prize == second_choice:\n",
    "            N_wins_second_choice += 1\n",
    "        \n",
    "    return [N_wins_first_choice, N_wins_second_choice]\n",
    "\n",
    "\n",
    "# Function above would give us winning odds, \n",
    "# or how many times contestant wins switching door in N_games.\n",
    "# Each run of that function would return somewhat different result.\n",
    "# To see the variance of results we may choose to run N_games multiple times.\n",
    "def runs(N, N_games = 1000):\n",
    "    #trials = np.empty([])\n",
    "    trials = games((N_games))\n",
    "    for i in range(N-1):\n",
    "        trials = np.vstack([trials, games(N_games)])\n",
    "    return trials"
   ]
  },
  {
   "cell_type": "code",
   "execution_count": 2,
   "metadata": {},
   "outputs": [
    {
     "data": {
      "text/plain": [
       "<Figure size 432x288 with 0 Axes>"
      ]
     },
     "metadata": {},
     "output_type": "display_data"
    }
   ],
   "source": [
    "from pandas import DataFrame\n",
    "import matplotlib.pyplot as plt\n",
    "\n",
    "plt.figure()\n",
    "\n",
    "# we shall call 'runs' to simulate 30 different runs with 10000 games each.\n",
    "# 30 runs will produce stucked lists, that are upload to DataFrame \n",
    "DT = DataFrame(runs(30, 10000), columns=[\"First Choice\", \"Alternate Choice\"])"
   ]
  },
  {
   "cell_type": "code",
   "execution_count": 3,
   "metadata": {},
   "outputs": [
    {
     "data": {
      "text/plain": [
       "<AxesSubplot:>"
      ]
     },
     "execution_count": 3,
     "metadata": {},
     "output_type": "execute_result"
    },
    {
     "data": {
      "image/png": "[encoded data removed]",
      "text/plain": [
       "<Figure size 432x288 with 1 Axes>"
      ]
     },
     "metadata": {
      "needs_background": "light"
     },
     "output_type": "display_data"
    }
   ],
   "source": [
    "#.plot.hist(bins=100)\n",
    "DT.boxplot()\n",
    "# plt.show()"
   ]
  },
  {
   "cell_type": "markdown",
   "metadata": {},
   "source": [
    "__NOTE:__ In this case, to obtain the intervals, 30 runs of 10,000 games were simulated.\n",
    "It shows that the contestant wins on average 1/3 of the time staying with their original door choice\n",
    "and with probability 2/3 when switching from their original door. \n",
    "\n",
    "If Monty picked the door to open randomly, that would not bring us any additional information and the chances to win would be the same with both strategies.   \n",
    "But he specifically picks the door without a prize, this gives us additional information which can be used in counting odds. Later in this course we shall discuss Bayesian approach to this problem."
   ]
  },
  {
   "cell_type": "code",
   "execution_count": null,
   "metadata": {},
   "outputs": [],
   "source": []
  }
 ],
 "metadata": {
  "kernelspec": {
   "display_name": "Python 3 (ipykernel)",
   "language": "python",
   "name": "python3"
  },
  "language_info": {
   "codemirror_mode": {
    "name": "ipython",
    "version": 3
   },
   "file_extension": ".py",
   "mimetype": "text/x-python",
   "name": "python",
   "nbconvert_exporter": "python",
   "pygments_lexer": "ipython3",
   "version": "3.12.4"
  }
 },
 "nbformat": 4,
 "nbformat_minor": 4
}
